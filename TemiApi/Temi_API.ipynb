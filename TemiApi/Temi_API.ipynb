{
 "cells": [
  {
   "cell_type": "code",
   "execution_count": 3,
   "id": "fa4919a5",
   "metadata": {},
   "outputs": [
    {
     "name": "stdout",
     "output_type": "stream",
     "text": [
      "Requirement already satisfied: temi in c:\\program files\\lib\\site-packages (0.0.2)\n"
     ]
    },
    {
     "name": "stderr",
     "output_type": "stream",
     "text": [
      "WARNING: You are using pip version 22.0.4; however, version 22.2.2 is available.\n",
      "You should consider upgrading via the 'C:\\Program Files\\python.exe -m pip install --upgrade pip' command.\n"
     ]
    }
   ],
   "source": [
    "!pip install temi"
   ]
  },
  {
   "cell_type": "code",
   "execution_count": 3,
   "id": "73b0dc11",
   "metadata": {},
   "outputs": [],
   "source": [
    "import json\n",
    "import uuid\n",
    "import asyncio\n",
    "import logging\n",
    "import colorlog\n",
    "import websockets"
   ]
  },
  {
   "cell_type": "code",
   "execution_count": 27,
   "id": "5f5a4f04",
   "metadata": {},
   "outputs": [
    {
     "data": {
      "text/plain": [
       "['_Temi__process_callbacks',\n",
       " '_Temi__receive_temi_events',\n",
       " '_Temi__send_command',\n",
       " '__class__',\n",
       " '__delattr__',\n",
       " '__dir__',\n",
       " '__eq__',\n",
       " '__format__',\n",
       " '__ge__',\n",
       " '__getattr__',\n",
       " '__getattribute__',\n",
       " '__gt__',\n",
       " '__hash__',\n",
       " '__init__',\n",
       " '__init_subclass__',\n",
       " '__le__',\n",
       " '__lt__',\n",
       " '__ne__',\n",
       " '__new__',\n",
       " '__reduce__',\n",
       " '__reduce_ex__',\n",
       " '__repr__',\n",
       " '__setattr__',\n",
       " '__sizeof__',\n",
       " '__str__',\n",
       " '__subclasshook__',\n",
       " 'command',\n",
       " 'connect',\n",
       " 'disconnect',\n",
       " 'register',\n",
       " 'run',\n",
       " 'unregister']"
      ]
     },
     "execution_count": 27,
     "metadata": {},
     "output_type": "execute_result"
    }
   ],
   "source": [
    "temi = Temi('ws://172.20.10.7:8175')\n",
    "# await temi.connect()\n",
    "method_list = [func for func in dir(Temi) if callable(getattr(Temi, func))]\n",
    "method_list"
   ]
  },
  {
   "cell_type": "code",
   "execution_count": null,
   "id": "58e036bf",
   "metadata": {},
   "outputs": [],
   "source": [
    "await temi.connect()\n",
    "await temi.tasks()\n",
    "# m = await temi.interface(url=\"https://meet.google.com/wtq-ekqq-ncs\")"
   ]
  },
  {
   "cell_type": "code",
   "execution_count": 22,
   "id": "427c7434",
   "metadata": {},
   "outputs": [
    {
     "name": "stderr",
     "output_type": "stream",
     "text": [
      "\u001b[37mDEBUG:temi 2022-08-08 20:27:02,068 - Trying to connect to Temi at ws://172.20.10.7:8175...\u001b[0m\n",
      "\u001b[37mDEBUG:temi 2022-08-08 20:27:02,068 - Trying to connect to Temi at ws://172.20.10.7:8175...\u001b[0m\n",
      "\u001b[37mDEBUG:temi 2022-08-08 20:27:02,068 - Trying to connect to Temi at ws://172.20.10.7:8175...\u001b[0m\n",
      "\u001b[37mDEBUG:temi 2022-08-08 20:27:02,068 - Trying to connect to Temi at ws://172.20.10.7:8175...\u001b[0m\n",
      "\u001b[37mDEBUG:temi 2022-08-08 20:27:02,068 - Trying to connect to Temi at ws://172.20.10.7:8175...\u001b[0m\n",
      "\u001b[37mDEBUG:temi 2022-08-08 20:27:02,068 - Trying to connect to Temi at ws://172.20.10.7:8175...\u001b[0m\n",
      "\u001b[37mDEBUG:temi 2022-08-08 20:27:02,068 - Trying to connect to Temi at ws://172.20.10.7:8175...\u001b[0m\n",
      "\u001b[37mDEBUG:temi 2022-08-08 20:27:02,068 - Trying to connect to Temi at ws://172.20.10.7:8175...\u001b[0m\n",
      "\u001b[37mDEBUG:temi 2022-08-08 20:27:02,068 - Trying to connect to Temi at ws://172.20.10.7:8175...\u001b[0m\n",
      "\u001b[37mDEBUG:temi 2022-08-08 20:27:02,068 - Trying to connect to Temi at ws://172.20.10.7:8175...\u001b[0m\n",
      "\u001b[37mDEBUG:temi 2022-08-08 20:27:02,068 - Trying to connect to Temi at ws://172.20.10.7:8175...\u001b[0m\n",
      "\u001b[37mDEBUG:temi 2022-08-08 20:27:02,068 - Trying to connect to Temi at ws://172.20.10.7:8175...\u001b[0m\n",
      "\u001b[37mDEBUG:temi 2022-08-08 20:27:02,068 - Trying to connect to Temi at ws://172.20.10.7:8175...\u001b[0m\n",
      "\u001b[37mDEBUG:temi 2022-08-08 20:27:02,068 - Trying to connect to Temi at ws://172.20.10.7:8175...\u001b[0m\n",
      "\u001b[37mDEBUG:temi 2022-08-08 20:27:02,068 - Trying to connect to Temi at ws://172.20.10.7:8175...\u001b[0m\n",
      "\u001b[37mDEBUG:temi 2022-08-08 20:27:02,068 - Trying to connect to Temi at ws://172.20.10.7:8175...\u001b[0m\n",
      "\u001b[32mINFO:temi 2022-08-08 20:27:02,189 - Connected to Temi at ws://172.20.10.7:8175.\u001b[0m\n",
      "\u001b[32mINFO:temi 2022-08-08 20:27:02,189 - Connected to Temi at ws://172.20.10.7:8175.\u001b[0m\n",
      "\u001b[32mINFO:temi 2022-08-08 20:27:02,189 - Connected to Temi at ws://172.20.10.7:8175.\u001b[0m\n",
      "\u001b[32mINFO:temi 2022-08-08 20:27:02,189 - Connected to Temi at ws://172.20.10.7:8175.\u001b[0m\n",
      "\u001b[32mINFO:temi 2022-08-08 20:27:02,189 - Connected to Temi at ws://172.20.10.7:8175.\u001b[0m\n",
      "\u001b[32mINFO:temi 2022-08-08 20:27:02,189 - Connected to Temi at ws://172.20.10.7:8175.\u001b[0m\n",
      "\u001b[32mINFO:temi 2022-08-08 20:27:02,189 - Connected to Temi at ws://172.20.10.7:8175.\u001b[0m\n",
      "\u001b[32mINFO:temi 2022-08-08 20:27:02,189 - Connected to Temi at ws://172.20.10.7:8175.\u001b[0m\n",
      "\u001b[32mINFO:temi 2022-08-08 20:27:02,189 - Connected to Temi at ws://172.20.10.7:8175.\u001b[0m\n",
      "\u001b[32mINFO:temi 2022-08-08 20:27:02,189 - Connected to Temi at ws://172.20.10.7:8175.\u001b[0m\n",
      "\u001b[32mINFO:temi 2022-08-08 20:27:02,189 - Connected to Temi at ws://172.20.10.7:8175.\u001b[0m\n",
      "\u001b[32mINFO:temi 2022-08-08 20:27:02,189 - Connected to Temi at ws://172.20.10.7:8175.\u001b[0m\n",
      "\u001b[32mINFO:temi 2022-08-08 20:27:02,189 - Connected to Temi at ws://172.20.10.7:8175.\u001b[0m\n",
      "\u001b[32mINFO:temi 2022-08-08 20:27:02,189 - Connected to Temi at ws://172.20.10.7:8175.\u001b[0m\n",
      "\u001b[32mINFO:temi 2022-08-08 20:27:02,189 - Connected to Temi at ws://172.20.10.7:8175.\u001b[0m\n",
      "\u001b[32mINFO:temi 2022-08-08 20:27:02,189 - Connected to Temi at ws://172.20.10.7:8175.\u001b[0m\n",
      "\u001b[37mDEBUG:temi 2022-08-08 20:27:02,222 - Sent command to Temi: {\"sentence\": \"TAL I KNOW YOY LOVE SUCKING DICK\", \"command\": \"speak\", \"id\": \"95fd899d-7aad-41f9-a2bd-5ba92f6899ff\"}\u001b[0m\n",
      "\u001b[37mDEBUG:temi 2022-08-08 20:27:02,222 - Sent command to Temi: {\"sentence\": \"TAL I KNOW YOY LOVE SUCKING DICK\", \"command\": \"speak\", \"id\": \"95fd899d-7aad-41f9-a2bd-5ba92f6899ff\"}\u001b[0m\n",
      "\u001b[37mDEBUG:temi 2022-08-08 20:27:02,222 - Sent command to Temi: {\"sentence\": \"TAL I KNOW YOY LOVE SUCKING DICK\", \"command\": \"speak\", \"id\": \"95fd899d-7aad-41f9-a2bd-5ba92f6899ff\"}\u001b[0m\n",
      "\u001b[37mDEBUG:temi 2022-08-08 20:27:02,222 - Sent command to Temi: {\"sentence\": \"TAL I KNOW YOY LOVE SUCKING DICK\", \"command\": \"speak\", \"id\": \"95fd899d-7aad-41f9-a2bd-5ba92f6899ff\"}\u001b[0m\n",
      "\u001b[37mDEBUG:temi 2022-08-08 20:27:02,222 - Sent command to Temi: {\"sentence\": \"TAL I KNOW YOY LOVE SUCKING DICK\", \"command\": \"speak\", \"id\": \"95fd899d-7aad-41f9-a2bd-5ba92f6899ff\"}\u001b[0m\n",
      "\u001b[37mDEBUG:temi 2022-08-08 20:27:02,222 - Sent command to Temi: {\"sentence\": \"TAL I KNOW YOY LOVE SUCKING DICK\", \"command\": \"speak\", \"id\": \"95fd899d-7aad-41f9-a2bd-5ba92f6899ff\"}\u001b[0m\n",
      "\u001b[37mDEBUG:temi 2022-08-08 20:27:02,222 - Sent command to Temi: {\"sentence\": \"TAL I KNOW YOY LOVE SUCKING DICK\", \"command\": \"speak\", \"id\": \"95fd899d-7aad-41f9-a2bd-5ba92f6899ff\"}\u001b[0m\n",
      "\u001b[37mDEBUG:temi 2022-08-08 20:27:02,222 - Sent command to Temi: {\"sentence\": \"TAL I KNOW YOY LOVE SUCKING DICK\", \"command\": \"speak\", \"id\": \"95fd899d-7aad-41f9-a2bd-5ba92f6899ff\"}\u001b[0m\n",
      "\u001b[37mDEBUG:temi 2022-08-08 20:27:02,222 - Sent command to Temi: {\"sentence\": \"TAL I KNOW YOY LOVE SUCKING DICK\", \"command\": \"speak\", \"id\": \"95fd899d-7aad-41f9-a2bd-5ba92f6899ff\"}\u001b[0m\n",
      "\u001b[37mDEBUG:temi 2022-08-08 20:27:02,222 - Sent command to Temi: {\"sentence\": \"TAL I KNOW YOY LOVE SUCKING DICK\", \"command\": \"speak\", \"id\": \"95fd899d-7aad-41f9-a2bd-5ba92f6899ff\"}\u001b[0m\n",
      "\u001b[37mDEBUG:temi 2022-08-08 20:27:02,222 - Sent command to Temi: {\"sentence\": \"TAL I KNOW YOY LOVE SUCKING DICK\", \"command\": \"speak\", \"id\": \"95fd899d-7aad-41f9-a2bd-5ba92f6899ff\"}\u001b[0m\n",
      "\u001b[37mDEBUG:temi 2022-08-08 20:27:02,222 - Sent command to Temi: {\"sentence\": \"TAL I KNOW YOY LOVE SUCKING DICK\", \"command\": \"speak\", \"id\": \"95fd899d-7aad-41f9-a2bd-5ba92f6899ff\"}\u001b[0m\n",
      "\u001b[37mDEBUG:temi 2022-08-08 20:27:02,222 - Sent command to Temi: {\"sentence\": \"TAL I KNOW YOY LOVE SUCKING DICK\", \"command\": \"speak\", \"id\": \"95fd899d-7aad-41f9-a2bd-5ba92f6899ff\"}\u001b[0m\n",
      "\u001b[37mDEBUG:temi 2022-08-08 20:27:02,222 - Sent command to Temi: {\"sentence\": \"TAL I KNOW YOY LOVE SUCKING DICK\", \"command\": \"speak\", \"id\": \"95fd899d-7aad-41f9-a2bd-5ba92f6899ff\"}\u001b[0m\n",
      "\u001b[37mDEBUG:temi 2022-08-08 20:27:02,222 - Sent command to Temi: {\"sentence\": \"TAL I KNOW YOY LOVE SUCKING DICK\", \"command\": \"speak\", \"id\": \"95fd899d-7aad-41f9-a2bd-5ba92f6899ff\"}\u001b[0m\n",
      "\u001b[37mDEBUG:temi 2022-08-08 20:27:02,222 - Sent command to Temi: {\"sentence\": \"TAL I KNOW YOY LOVE SUCKING DICK\", \"command\": \"speak\", \"id\": \"95fd899d-7aad-41f9-a2bd-5ba92f6899ff\"}\u001b[0m\n",
      "\u001b[37mDEBUG:temi 2022-08-08 20:27:02,241 - Sent command to Temi: {\"url\": \"https://meet.google.com/wtq-ekqq-ncs\", \"command\": \"interface\", \"id\": \"6049bd3a-580f-4b36-8d9b-67b04119202a\"}\u001b[0m\n",
      "\u001b[37mDEBUG:temi 2022-08-08 20:27:02,241 - Sent command to Temi: {\"url\": \"https://meet.google.com/wtq-ekqq-ncs\", \"command\": \"interface\", \"id\": \"6049bd3a-580f-4b36-8d9b-67b04119202a\"}\u001b[0m\n",
      "\u001b[37mDEBUG:temi 2022-08-08 20:27:02,241 - Sent command to Temi: {\"url\": \"https://meet.google.com/wtq-ekqq-ncs\", \"command\": \"interface\", \"id\": \"6049bd3a-580f-4b36-8d9b-67b04119202a\"}\u001b[0m\n",
      "\u001b[37mDEBUG:temi 2022-08-08 20:27:02,241 - Sent command to Temi: {\"url\": \"https://meet.google.com/wtq-ekqq-ncs\", \"command\": \"interface\", \"id\": \"6049bd3a-580f-4b36-8d9b-67b04119202a\"}\u001b[0m\n",
      "\u001b[37mDEBUG:temi 2022-08-08 20:27:02,241 - Sent command to Temi: {\"url\": \"https://meet.google.com/wtq-ekqq-ncs\", \"command\": \"interface\", \"id\": \"6049bd3a-580f-4b36-8d9b-67b04119202a\"}\u001b[0m\n",
      "\u001b[37mDEBUG:temi 2022-08-08 20:27:02,241 - Sent command to Temi: {\"url\": \"https://meet.google.com/wtq-ekqq-ncs\", \"command\": \"interface\", \"id\": \"6049bd3a-580f-4b36-8d9b-67b04119202a\"}\u001b[0m\n",
      "\u001b[37mDEBUG:temi 2022-08-08 20:27:02,241 - Sent command to Temi: {\"url\": \"https://meet.google.com/wtq-ekqq-ncs\", \"command\": \"interface\", \"id\": \"6049bd3a-580f-4b36-8d9b-67b04119202a\"}\u001b[0m\n",
      "\u001b[37mDEBUG:temi 2022-08-08 20:27:02,241 - Sent command to Temi: {\"url\": \"https://meet.google.com/wtq-ekqq-ncs\", \"command\": \"interface\", \"id\": \"6049bd3a-580f-4b36-8d9b-67b04119202a\"}\u001b[0m\n",
      "\u001b[37mDEBUG:temi 2022-08-08 20:27:02,241 - Sent command to Temi: {\"url\": \"https://meet.google.com/wtq-ekqq-ncs\", \"command\": \"interface\", \"id\": \"6049bd3a-580f-4b36-8d9b-67b04119202a\"}\u001b[0m\n",
      "\u001b[37mDEBUG:temi 2022-08-08 20:27:02,241 - Sent command to Temi: {\"url\": \"https://meet.google.com/wtq-ekqq-ncs\", \"command\": \"interface\", \"id\": \"6049bd3a-580f-4b36-8d9b-67b04119202a\"}\u001b[0m\n",
      "\u001b[37mDEBUG:temi 2022-08-08 20:27:02,241 - Sent command to Temi: {\"url\": \"https://meet.google.com/wtq-ekqq-ncs\", \"command\": \"interface\", \"id\": \"6049bd3a-580f-4b36-8d9b-67b04119202a\"}\u001b[0m\n",
      "\u001b[37mDEBUG:temi 2022-08-08 20:27:02,241 - Sent command to Temi: {\"url\": \"https://meet.google.com/wtq-ekqq-ncs\", \"command\": \"interface\", \"id\": \"6049bd3a-580f-4b36-8d9b-67b04119202a\"}\u001b[0m\n",
      "\u001b[37mDEBUG:temi 2022-08-08 20:27:02,241 - Sent command to Temi: {\"url\": \"https://meet.google.com/wtq-ekqq-ncs\", \"command\": \"interface\", \"id\": \"6049bd3a-580f-4b36-8d9b-67b04119202a\"}\u001b[0m\n"
     ]
    },
    {
     "name": "stderr",
     "output_type": "stream",
     "text": [
      "\u001b[37mDEBUG:temi 2022-08-08 20:27:02,241 - Sent command to Temi: {\"url\": \"https://meet.google.com/wtq-ekqq-ncs\", \"command\": \"interface\", \"id\": \"6049bd3a-580f-4b36-8d9b-67b04119202a\"}\u001b[0m\n",
      "\u001b[37mDEBUG:temi 2022-08-08 20:27:02,241 - Sent command to Temi: {\"url\": \"https://meet.google.com/wtq-ekqq-ncs\", \"command\": \"interface\", \"id\": \"6049bd3a-580f-4b36-8d9b-67b04119202a\"}\u001b[0m\n",
      "\u001b[37mDEBUG:temi 2022-08-08 20:27:02,241 - Sent command to Temi: {\"url\": \"https://meet.google.com/wtq-ekqq-ncs\", \"command\": \"interface\", \"id\": \"6049bd3a-580f-4b36-8d9b-67b04119202a\"}\u001b[0m\n",
      "\u001b[32mINFO:temi 2022-08-08 20:27:02,270 - Finished \"speak\": {'sentence': 'TAL I KNOW YOY LOVE SUCKING DICK', 'command': 'speak', 'id': '95fd899d-7aad-41f9-a2bd-5ba92f6899ff'}\u001b[0m\n",
      "\u001b[32mINFO:temi 2022-08-08 20:27:02,270 - Finished \"speak\": {'sentence': 'TAL I KNOW YOY LOVE SUCKING DICK', 'command': 'speak', 'id': '95fd899d-7aad-41f9-a2bd-5ba92f6899ff'}\u001b[0m\n",
      "\u001b[32mINFO:temi 2022-08-08 20:27:02,270 - Finished \"speak\": {'sentence': 'TAL I KNOW YOY LOVE SUCKING DICK', 'command': 'speak', 'id': '95fd899d-7aad-41f9-a2bd-5ba92f6899ff'}\u001b[0m\n",
      "\u001b[32mINFO:temi 2022-08-08 20:27:02,270 - Finished \"speak\": {'sentence': 'TAL I KNOW YOY LOVE SUCKING DICK', 'command': 'speak', 'id': '95fd899d-7aad-41f9-a2bd-5ba92f6899ff'}\u001b[0m\n",
      "\u001b[32mINFO:temi 2022-08-08 20:27:02,270 - Finished \"speak\": {'sentence': 'TAL I KNOW YOY LOVE SUCKING DICK', 'command': 'speak', 'id': '95fd899d-7aad-41f9-a2bd-5ba92f6899ff'}\u001b[0m\n",
      "\u001b[32mINFO:temi 2022-08-08 20:27:02,270 - Finished \"speak\": {'sentence': 'TAL I KNOW YOY LOVE SUCKING DICK', 'command': 'speak', 'id': '95fd899d-7aad-41f9-a2bd-5ba92f6899ff'}\u001b[0m\n",
      "\u001b[32mINFO:temi 2022-08-08 20:27:02,270 - Finished \"speak\": {'sentence': 'TAL I KNOW YOY LOVE SUCKING DICK', 'command': 'speak', 'id': '95fd899d-7aad-41f9-a2bd-5ba92f6899ff'}\u001b[0m\n",
      "\u001b[32mINFO:temi 2022-08-08 20:27:02,270 - Finished \"speak\": {'sentence': 'TAL I KNOW YOY LOVE SUCKING DICK', 'command': 'speak', 'id': '95fd899d-7aad-41f9-a2bd-5ba92f6899ff'}\u001b[0m\n",
      "\u001b[32mINFO:temi 2022-08-08 20:27:02,270 - Finished \"speak\": {'sentence': 'TAL I KNOW YOY LOVE SUCKING DICK', 'command': 'speak', 'id': '95fd899d-7aad-41f9-a2bd-5ba92f6899ff'}\u001b[0m\n",
      "\u001b[32mINFO:temi 2022-08-08 20:27:02,270 - Finished \"speak\": {'sentence': 'TAL I KNOW YOY LOVE SUCKING DICK', 'command': 'speak', 'id': '95fd899d-7aad-41f9-a2bd-5ba92f6899ff'}\u001b[0m\n",
      "\u001b[32mINFO:temi 2022-08-08 20:27:02,270 - Finished \"speak\": {'sentence': 'TAL I KNOW YOY LOVE SUCKING DICK', 'command': 'speak', 'id': '95fd899d-7aad-41f9-a2bd-5ba92f6899ff'}\u001b[0m\n",
      "\u001b[32mINFO:temi 2022-08-08 20:27:02,270 - Finished \"speak\": {'sentence': 'TAL I KNOW YOY LOVE SUCKING DICK', 'command': 'speak', 'id': '95fd899d-7aad-41f9-a2bd-5ba92f6899ff'}\u001b[0m\n",
      "\u001b[32mINFO:temi 2022-08-08 20:27:02,270 - Finished \"speak\": {'sentence': 'TAL I KNOW YOY LOVE SUCKING DICK', 'command': 'speak', 'id': '95fd899d-7aad-41f9-a2bd-5ba92f6899ff'}\u001b[0m\n",
      "\u001b[32mINFO:temi 2022-08-08 20:27:02,270 - Finished \"speak\": {'sentence': 'TAL I KNOW YOY LOVE SUCKING DICK', 'command': 'speak', 'id': '95fd899d-7aad-41f9-a2bd-5ba92f6899ff'}\u001b[0m\n",
      "\u001b[32mINFO:temi 2022-08-08 20:27:02,270 - Finished \"speak\": {'sentence': 'TAL I KNOW YOY LOVE SUCKING DICK', 'command': 'speak', 'id': '95fd899d-7aad-41f9-a2bd-5ba92f6899ff'}\u001b[0m\n",
      "\u001b[32mINFO:temi 2022-08-08 20:27:02,270 - Finished \"speak\": {'sentence': 'TAL I KNOW YOY LOVE SUCKING DICK', 'command': 'speak', 'id': '95fd899d-7aad-41f9-a2bd-5ba92f6899ff'}\u001b[0m\n",
      "\u001b[31mERROR:temi 2022-08-08 20:27:02,927 - Error when sending command to Temi.\u001b[0m\n",
      "\u001b[31mERROR:temi 2022-08-08 20:27:02,927 - Error when sending command to Temi.\u001b[0m\n",
      "\u001b[31mERROR:temi 2022-08-08 20:27:02,927 - Error when sending command to Temi.\u001b[0m\n",
      "\u001b[31mERROR:temi 2022-08-08 20:27:02,927 - Error when sending command to Temi.\u001b[0m\n",
      "\u001b[31mERROR:temi 2022-08-08 20:27:02,927 - Error when sending command to Temi.\u001b[0m\n",
      "\u001b[31mERROR:temi 2022-08-08 20:27:02,927 - Error when sending command to Temi.\u001b[0m\n",
      "\u001b[31mERROR:temi 2022-08-08 20:27:02,927 - Error when sending command to Temi.\u001b[0m\n",
      "\u001b[31mERROR:temi 2022-08-08 20:27:02,927 - Error when sending command to Temi.\u001b[0m\n",
      "\u001b[31mERROR:temi 2022-08-08 20:27:02,927 - Error when sending command to Temi.\u001b[0m\n",
      "\u001b[31mERROR:temi 2022-08-08 20:27:02,927 - Error when sending command to Temi.\u001b[0m\n",
      "\u001b[31mERROR:temi 2022-08-08 20:27:02,927 - Error when sending command to Temi.\u001b[0m\n",
      "\u001b[31mERROR:temi 2022-08-08 20:27:02,927 - Error when sending command to Temi.\u001b[0m\n",
      "\u001b[31mERROR:temi 2022-08-08 20:27:02,927 - Error when sending command to Temi.\u001b[0m\n",
      "\u001b[31mERROR:temi 2022-08-08 20:27:02,927 - Error when sending command to Temi.\u001b[0m\n",
      "\u001b[31mERROR:temi 2022-08-08 20:27:02,927 - Error when sending command to Temi.\u001b[0m\n",
      "\u001b[31mERROR:temi 2022-08-08 20:27:02,927 - Error when sending command to Temi.\u001b[0m\n"
     ]
    },
    {
     "ename": "ConnectionClosedOK",
     "evalue": "received 1001 (going away); then sent 1001 (going away)",
     "output_type": "error",
     "traceback": [
      "\u001b[1;31m---------------------------------------------------------------------------\u001b[0m",
      "\u001b[1;31mConnectionClosedOK\u001b[0m                        Traceback (most recent call last)",
      "Input \u001b[1;32mIn [22]\u001b[0m, in \u001b[0;36m<cell line: 3>\u001b[1;34m()\u001b[0m\n\u001b[0;32m      1\u001b[0m temi \u001b[38;5;241m=\u001b[39m Temi(\u001b[38;5;124m'\u001b[39m\u001b[38;5;124mws://172.20.10.7:8175\u001b[39m\u001b[38;5;124m'\u001b[39m)\n\u001b[0;32m      2\u001b[0m \u001b[38;5;28;01mawait\u001b[39;00m temi\u001b[38;5;241m.\u001b[39mconnect()\n\u001b[1;32m----> 3\u001b[0m message \u001b[38;5;241m=\u001b[39m \u001b[38;5;28;01mawait\u001b[39;00m temi\u001b[38;5;241m.\u001b[39minterface(url\u001b[38;5;241m=\u001b[39m\u001b[38;5;124m\"\u001b[39m\u001b[38;5;124mhttps://meet.google.com/wtq-ekqq-ncs\u001b[39m\u001b[38;5;124m\"\u001b[39m)\u001b[38;5;241m.\u001b[39mspeak(sentence\u001b[38;5;241m=\u001b[39m\u001b[38;5;124m\"\u001b[39m\u001b[38;5;124mTAL I KNOW YOY LOVE SUCKING DICK\u001b[39m\u001b[38;5;124m\"\u001b[39m)\u001b[38;5;241m.\u001b[39mrun()\n",
      "File \u001b[1;32mC:\\Program Files\\lib\\site-packages\\temi\\api.py:120\u001b[0m, in \u001b[0;36mTemi.run\u001b[1;34m(self)\u001b[0m\n\u001b[0;32m    119\u001b[0m \u001b[38;5;28;01masync\u001b[39;00m \u001b[38;5;28;01mdef\u001b[39;00m \u001b[38;5;21mrun\u001b[39m(\u001b[38;5;28mself\u001b[39m):\n\u001b[1;32m--> 120\u001b[0m     results \u001b[38;5;241m=\u001b[39m \u001b[38;5;28;01mawait\u001b[39;00m asyncio\u001b[38;5;241m.\u001b[39mgather( \u001b[38;5;241m*\u001b[39m\u001b[38;5;28mself\u001b[39m\u001b[38;5;241m.\u001b[39mtasks )\n\u001b[0;32m    121\u001b[0m     \u001b[38;5;28mself\u001b[39m\u001b[38;5;241m.\u001b[39mtasks \u001b[38;5;241m=\u001b[39m []\n\u001b[0;32m    122\u001b[0m     \u001b[38;5;28;01mif\u001b[39;00m \u001b[38;5;28mlen\u001b[39m(results) \u001b[38;5;241m==\u001b[39m \u001b[38;5;241m1\u001b[39m:\n",
      "File \u001b[1;32mC:\\Program Files\\lib\\site-packages\\temi\\api.py:115\u001b[0m, in \u001b[0;36mTemi.command\u001b[1;34m(self, command, timeout, **kwargs)\u001b[0m\n\u001b[0;32m    114\u001b[0m \u001b[38;5;28;01masync\u001b[39;00m \u001b[38;5;28;01mdef\u001b[39;00m \u001b[38;5;21mcommand\u001b[39m(\u001b[38;5;28mself\u001b[39m, command, timeout\u001b[38;5;241m=\u001b[39m\u001b[38;5;28;01mNone\u001b[39;00m, \u001b[38;5;241m*\u001b[39m\u001b[38;5;241m*\u001b[39mkwargs):\n\u001b[1;32m--> 115\u001b[0m     \u001b[38;5;28;01mreturn\u001b[39;00m \u001b[38;5;28;01mawait\u001b[39;00m asyncio\u001b[38;5;241m.\u001b[39mwait_for(\n\u001b[0;32m    116\u001b[0m         \u001b[38;5;28mself\u001b[39m\u001b[38;5;241m.\u001b[39m__send_command(command, \u001b[38;5;241m*\u001b[39m\u001b[38;5;241m*\u001b[39mkwargs), timeout\u001b[38;5;241m=\u001b[39mtimeout\n\u001b[0;32m    117\u001b[0m     )\n",
      "File \u001b[1;32mC:\\Program Files\\lib\\asyncio\\tasks.py:408\u001b[0m, in \u001b[0;36mwait_for\u001b[1;34m(fut, timeout)\u001b[0m\n\u001b[0;32m    405\u001b[0m loop \u001b[38;5;241m=\u001b[39m events\u001b[38;5;241m.\u001b[39mget_running_loop()\n\u001b[0;32m    407\u001b[0m \u001b[38;5;28;01mif\u001b[39;00m timeout \u001b[38;5;129;01mis\u001b[39;00m \u001b[38;5;28;01mNone\u001b[39;00m:\n\u001b[1;32m--> 408\u001b[0m     \u001b[38;5;28;01mreturn\u001b[39;00m \u001b[38;5;28;01mawait\u001b[39;00m fut\n\u001b[0;32m    410\u001b[0m \u001b[38;5;28;01mif\u001b[39;00m timeout \u001b[38;5;241m<\u001b[39m\u001b[38;5;241m=\u001b[39m \u001b[38;5;241m0\u001b[39m:\n\u001b[0;32m    411\u001b[0m     fut \u001b[38;5;241m=\u001b[39m ensure_future(fut, loop\u001b[38;5;241m=\u001b[39mloop)\n",
      "File \u001b[1;32mC:\\Program Files\\lib\\site-packages\\temi\\api.py:112\u001b[0m, in \u001b[0;36mTemi.__send_command\u001b[1;34m(self, command, **kwargs)\u001b[0m\n\u001b[0;32m    110\u001b[0m \u001b[38;5;28;01mexcept\u001b[39;00m \u001b[38;5;167;01mException\u001b[39;00m \u001b[38;5;28;01mas\u001b[39;00m e:\n\u001b[0;32m    111\u001b[0m     \u001b[38;5;28mself\u001b[39m\u001b[38;5;241m.\u001b[39mlogger\u001b[38;5;241m.\u001b[39merror(\u001b[38;5;124mf\u001b[39m\u001b[38;5;124m'\u001b[39m\u001b[38;5;124mError when sending command to Temi.\u001b[39m\u001b[38;5;124m'\u001b[39m)\n\u001b[1;32m--> 112\u001b[0m     \u001b[38;5;28;01mraise\u001b[39;00m e\n",
      "File \u001b[1;32mC:\\Program Files\\lib\\site-packages\\temi\\api.py:102\u001b[0m, in \u001b[0;36mTemi.__send_command\u001b[1;34m(self, command, **kwargs)\u001b[0m\n\u001b[0;32m    100\u001b[0m \u001b[38;5;66;03m# Receive response from Temi and see if the message is for us. If true, break the loop and return.\u001b[39;00m\n\u001b[0;32m    101\u001b[0m \u001b[38;5;28;01mwhile\u001b[39;00m \u001b[38;5;28;01mTrue\u001b[39;00m:\n\u001b[1;32m--> 102\u001b[0m     message \u001b[38;5;241m=\u001b[39m \u001b[38;5;28;01mawait\u001b[39;00m websocket\u001b[38;5;241m.\u001b[39mrecv()\n\u001b[0;32m    103\u001b[0m     \u001b[38;5;28;01mtry\u001b[39;00m: \n\u001b[0;32m    104\u001b[0m         message \u001b[38;5;241m=\u001b[39m json\u001b[38;5;241m.\u001b[39mloads(message)\n",
      "File \u001b[1;32mC:\\Program Files\\lib\\site-packages\\websockets\\legacy\\protocol.py:553\u001b[0m, in \u001b[0;36mWebSocketCommonProtocol.recv\u001b[1;34m(self)\u001b[0m\n\u001b[0;32m    549\u001b[0m             \u001b[38;5;28;01mreturn\u001b[39;00m \u001b[38;5;28;01mNone\u001b[39;00m  \u001b[38;5;66;03m# type: ignore\u001b[39;00m\n\u001b[0;32m    550\u001b[0m         \u001b[38;5;28;01melse\u001b[39;00m:\n\u001b[0;32m    551\u001b[0m             \u001b[38;5;66;03m# Wait until the connection is closed to raise\u001b[39;00m\n\u001b[0;32m    552\u001b[0m             \u001b[38;5;66;03m# ConnectionClosed with the correct code and reason.\u001b[39;00m\n\u001b[1;32m--> 553\u001b[0m             \u001b[38;5;28;01mawait\u001b[39;00m \u001b[38;5;28mself\u001b[39m\u001b[38;5;241m.\u001b[39mensure_open()\n\u001b[0;32m    555\u001b[0m \u001b[38;5;66;03m# Pop a message from the queue.\u001b[39;00m\n\u001b[0;32m    556\u001b[0m message \u001b[38;5;241m=\u001b[39m \u001b[38;5;28mself\u001b[39m\u001b[38;5;241m.\u001b[39mmessages\u001b[38;5;241m.\u001b[39mpopleft()\n",
      "File \u001b[1;32mC:\\Program Files\\lib\\site-packages\\websockets\\legacy\\protocol.py:930\u001b[0m, in \u001b[0;36mWebSocketCommonProtocol.ensure_open\u001b[1;34m(self)\u001b[0m\n\u001b[0;32m    923\u001b[0m \u001b[38;5;28;01mif\u001b[39;00m \u001b[38;5;28mself\u001b[39m\u001b[38;5;241m.\u001b[39mstate \u001b[38;5;129;01mis\u001b[39;00m State\u001b[38;5;241m.\u001b[39mCLOSING:\n\u001b[0;32m    924\u001b[0m     \u001b[38;5;66;03m# If we started the closing handshake, wait for its completion to\u001b[39;00m\n\u001b[0;32m    925\u001b[0m     \u001b[38;5;66;03m# get the proper close code and reason. self.close_connection_task\u001b[39;00m\n\u001b[0;32m    926\u001b[0m     \u001b[38;5;66;03m# will complete within 4 or 5 * close_timeout after close(). The\u001b[39;00m\n\u001b[0;32m    927\u001b[0m     \u001b[38;5;66;03m# CLOSING state also occurs when failing the connection. In that\u001b[39;00m\n\u001b[0;32m    928\u001b[0m     \u001b[38;5;66;03m# case self.close_connection_task will complete even faster.\u001b[39;00m\n\u001b[0;32m    929\u001b[0m     \u001b[38;5;28;01mawait\u001b[39;00m asyncio\u001b[38;5;241m.\u001b[39mshield(\u001b[38;5;28mself\u001b[39m\u001b[38;5;241m.\u001b[39mclose_connection_task)\n\u001b[1;32m--> 930\u001b[0m     \u001b[38;5;28;01mraise\u001b[39;00m \u001b[38;5;28mself\u001b[39m\u001b[38;5;241m.\u001b[39mconnection_closed_exc()\n\u001b[0;32m    932\u001b[0m \u001b[38;5;66;03m# Control may only reach this point in buggy third-party subclasses.\u001b[39;00m\n\u001b[0;32m    933\u001b[0m \u001b[38;5;28;01massert\u001b[39;00m \u001b[38;5;28mself\u001b[39m\u001b[38;5;241m.\u001b[39mstate \u001b[38;5;129;01mis\u001b[39;00m State\u001b[38;5;241m.\u001b[39mCONNECTING\n",
      "\u001b[1;31mConnectionClosedOK\u001b[0m: received 1001 (going away); then sent 1001 (going away)"
     ]
    }
   ],
   "source": [
    "\n",
    "temi = Temi('ws://172.20.10.7:8175)\n",
    "\n",
    "await temi.connect()\n",
    "message = await temi.interface(url=\"https://meet.google.com/wtq-ekqq-ncs\").speak(sentence=\"TAL I KNOW YOY LOVE SUCKING DICK\").run()"
   ]
  },
  {
   "cell_type": "code",
   "execution_count": 23,
   "id": "4552bef1",
   "metadata": {},
   "outputs": [
    {
     "ename": "SyntaxError",
     "evalue": "invalid syntax (2522715428.py, line 1)",
     "output_type": "error",
     "traceback": [
      "\u001b[1;36m  Input \u001b[1;32mIn [23]\u001b[1;36m\u001b[0m\n\u001b[1;33m    temi.tasks(%clear)\u001b[0m\n\u001b[1;37m               ^\u001b[0m\n\u001b[1;31mSyntaxError\u001b[0m\u001b[1;31m:\u001b[0m invalid syntax\n"
     ]
    }
   ],
   "source": [
    "temi."
   ]
  },
  {
   "cell_type": "code",
   "execution_count": 12,
   "id": "73d6697d",
   "metadata": {},
   "outputs": [
    {
     "ename": "RuntimeError",
     "evalue": "cannot reuse already awaited coroutine",
     "output_type": "error",
     "traceback": [
      "\u001b[1;31m---------------------------------------------------------------------------\u001b[0m",
      "\u001b[1;31mRuntimeError\u001b[0m                              Traceback (most recent call last)",
      "Input \u001b[1;32mIn [12]\u001b[0m, in \u001b[0;36m<cell line: 1>\u001b[1;34m()\u001b[0m\n\u001b[1;32m----> 1\u001b[0m \u001b[38;5;28;01mawait\u001b[39;00m temi\u001b[38;5;241m.\u001b[39mspeak(sentence\u001b[38;5;241m=\u001b[39m\u001b[38;5;124m\"\u001b[39m\u001b[38;5;124mI LOVE NIV\u001b[39m\u001b[38;5;124m\"\u001b[39m)\u001b[38;5;241m.\u001b[39mrun()\n",
      "File \u001b[1;32mC:\\Program Files\\lib\\site-packages\\temi\\api.py:120\u001b[0m, in \u001b[0;36mTemi.run\u001b[1;34m(self)\u001b[0m\n\u001b[0;32m    119\u001b[0m \u001b[38;5;28;01masync\u001b[39;00m \u001b[38;5;28;01mdef\u001b[39;00m \u001b[38;5;21mrun\u001b[39m(\u001b[38;5;28mself\u001b[39m):\n\u001b[1;32m--> 120\u001b[0m     results \u001b[38;5;241m=\u001b[39m \u001b[38;5;28;01mawait\u001b[39;00m asyncio\u001b[38;5;241m.\u001b[39mgather( \u001b[38;5;241m*\u001b[39m\u001b[38;5;28mself\u001b[39m\u001b[38;5;241m.\u001b[39mtasks )\n\u001b[0;32m    121\u001b[0m     \u001b[38;5;28mself\u001b[39m\u001b[38;5;241m.\u001b[39mtasks \u001b[38;5;241m=\u001b[39m []\n\u001b[0;32m    122\u001b[0m     \u001b[38;5;28;01mif\u001b[39;00m \u001b[38;5;28mlen\u001b[39m(results) \u001b[38;5;241m==\u001b[39m \u001b[38;5;241m1\u001b[39m:\n",
      "\u001b[1;31mRuntimeError\u001b[0m: cannot reuse already awaited coroutine"
     ]
    },
    {
     "name": "stderr",
     "output_type": "stream",
     "text": [
      "\u001b[37mDEBUG:temi 2022-08-08 19:55:31,746 - Sent command to Temi: {\"sentence\": \"I LOVE NIV\", \"command\": \"speak\", \"id\": \"01b00c61-b14f-419b-95d5-2e5d83bb557c\"}\u001b[0m\n",
      "\u001b[37mDEBUG:temi 2022-08-08 19:55:31,746 - Sent command to Temi: {\"sentence\": \"I LOVE NIV\", \"command\": \"speak\", \"id\": \"01b00c61-b14f-419b-95d5-2e5d83bb557c\"}\u001b[0m\n",
      "\u001b[37mDEBUG:temi 2022-08-08 19:55:31,746 - Sent command to Temi: {\"sentence\": \"I LOVE NIV\", \"command\": \"speak\", \"id\": \"01b00c61-b14f-419b-95d5-2e5d83bb557c\"}\u001b[0m\n",
      "\u001b[37mDEBUG:temi 2022-08-08 19:55:31,746 - Sent command to Temi: {\"sentence\": \"I LOVE NIV\", \"command\": \"speak\", \"id\": \"01b00c61-b14f-419b-95d5-2e5d83bb557c\"}\u001b[0m\n",
      "\u001b[37mDEBUG:temi 2022-08-08 19:55:31,746 - Sent command to Temi: {\"sentence\": \"I LOVE NIV\", \"command\": \"speak\", \"id\": \"01b00c61-b14f-419b-95d5-2e5d83bb557c\"}\u001b[0m\n",
      "\u001b[37mDEBUG:temi 2022-08-08 19:55:31,746 - Sent command to Temi: {\"sentence\": \"I LOVE NIV\", \"command\": \"speak\", \"id\": \"01b00c61-b14f-419b-95d5-2e5d83bb557c\"}\u001b[0m\n",
      "\u001b[32mINFO:temi 2022-08-08 19:55:31,797 - Finished \"speak\": {'sentence': 'I LOVE NIV', 'command': 'speak', 'id': '01b00c61-b14f-419b-95d5-2e5d83bb557c'}\u001b[0m\n",
      "\u001b[32mINFO:temi 2022-08-08 19:55:31,797 - Finished \"speak\": {'sentence': 'I LOVE NIV', 'command': 'speak', 'id': '01b00c61-b14f-419b-95d5-2e5d83bb557c'}\u001b[0m\n",
      "\u001b[32mINFO:temi 2022-08-08 19:55:31,797 - Finished \"speak\": {'sentence': 'I LOVE NIV', 'command': 'speak', 'id': '01b00c61-b14f-419b-95d5-2e5d83bb557c'}\u001b[0m\n",
      "\u001b[32mINFO:temi 2022-08-08 19:55:31,797 - Finished \"speak\": {'sentence': 'I LOVE NIV', 'command': 'speak', 'id': '01b00c61-b14f-419b-95d5-2e5d83bb557c'}\u001b[0m\n",
      "\u001b[32mINFO:temi 2022-08-08 19:55:31,797 - Finished \"speak\": {'sentence': 'I LOVE NIV', 'command': 'speak', 'id': '01b00c61-b14f-419b-95d5-2e5d83bb557c'}\u001b[0m\n",
      "\u001b[32mINFO:temi 2022-08-08 19:55:31,797 - Finished \"speak\": {'sentence': 'I LOVE NIV', 'command': 'speak', 'id': '01b00c61-b14f-419b-95d5-2e5d83bb557c'}\u001b[0m\n"
     ]
    }
   ],
   "source": [
    "await temi.speak(sentence=\"I LOVE NIV\").run()"
   ]
  },
  {
   "cell_type": "code",
   "execution_count": 5,
   "id": "2a977fc5",
   "metadata": {},
   "outputs": [
    {
     "ename": "RuntimeError",
     "evalue": "This event loop is already running",
     "output_type": "error",
     "traceback": [
      "\u001b[1;31m---------------------------------------------------------------------------\u001b[0m",
      "\u001b[1;31mRuntimeError\u001b[0m                              Traceback (most recent call last)",
      "Input \u001b[1;32mIn [5]\u001b[0m, in \u001b[0;36m<cell line: 10>\u001b[1;34m()\u001b[0m\n\u001b[0;32m      7\u001b[0m     message \u001b[38;5;241m=\u001b[39m \u001b[38;5;28;01mawait\u001b[39;00m temi\u001b[38;5;241m.\u001b[39minterface(url\u001b[38;5;241m=\u001b[39m\u001b[38;5;124m\"\u001b[39m\u001b[38;5;124mhttps://www.baidu.com/\u001b[39m\u001b[38;5;124m\"\u001b[39m)\u001b[38;5;241m.\u001b[39mspeak(sentence\u001b[38;5;241m=\u001b[39m\u001b[38;5;124m\"\u001b[39m\u001b[38;5;124mHI TEMI\u001b[39m\u001b[38;5;124m\"\u001b[39m)\u001b[38;5;241m.\u001b[39mrun()\n\u001b[0;32m      8\u001b[0m     \u001b[38;5;28mprint\u001b[39m(message) \n\u001b[1;32m---> 10\u001b[0m \u001b[43masyncio\u001b[49m\u001b[38;5;241;43m.\u001b[39;49m\u001b[43mget_event_loop\u001b[49m\u001b[43m(\u001b[49m\u001b[43m)\u001b[49m\u001b[38;5;241;43m.\u001b[39;49m\u001b[43mrun_until_complete\u001b[49m\u001b[43m(\u001b[49m\u001b[43mconnect_temi\u001b[49m\u001b[43m(\u001b[49m\u001b[43m)\u001b[49m\u001b[43m)\u001b[49m\n",
      "File \u001b[1;32mC:\\Program Files\\lib\\asyncio\\base_events.py:622\u001b[0m, in \u001b[0;36mBaseEventLoop.run_until_complete\u001b[1;34m(self, future)\u001b[0m\n\u001b[0;32m    611\u001b[0m \u001b[38;5;124;03m\"\"\"Run until the Future is done.\u001b[39;00m\n\u001b[0;32m    612\u001b[0m \n\u001b[0;32m    613\u001b[0m \u001b[38;5;124;03mIf the argument is a coroutine, it is wrapped in a Task.\u001b[39;00m\n\u001b[1;32m   (...)\u001b[0m\n\u001b[0;32m    619\u001b[0m \u001b[38;5;124;03mReturn the Future's result, or raise its exception.\u001b[39;00m\n\u001b[0;32m    620\u001b[0m \u001b[38;5;124;03m\"\"\"\u001b[39;00m\n\u001b[0;32m    621\u001b[0m \u001b[38;5;28mself\u001b[39m\u001b[38;5;241m.\u001b[39m_check_closed()\n\u001b[1;32m--> 622\u001b[0m \u001b[38;5;28;43mself\u001b[39;49m\u001b[38;5;241;43m.\u001b[39;49m\u001b[43m_check_running\u001b[49m\u001b[43m(\u001b[49m\u001b[43m)\u001b[49m\n\u001b[0;32m    624\u001b[0m new_task \u001b[38;5;241m=\u001b[39m \u001b[38;5;129;01mnot\u001b[39;00m futures\u001b[38;5;241m.\u001b[39misfuture(future)\n\u001b[0;32m    625\u001b[0m future \u001b[38;5;241m=\u001b[39m tasks\u001b[38;5;241m.\u001b[39mensure_future(future, loop\u001b[38;5;241m=\u001b[39m\u001b[38;5;28mself\u001b[39m)\n",
      "File \u001b[1;32mC:\\Program Files\\lib\\asyncio\\base_events.py:582\u001b[0m, in \u001b[0;36mBaseEventLoop._check_running\u001b[1;34m(self)\u001b[0m\n\u001b[0;32m    580\u001b[0m \u001b[38;5;28;01mdef\u001b[39;00m \u001b[38;5;21m_check_running\u001b[39m(\u001b[38;5;28mself\u001b[39m):\n\u001b[0;32m    581\u001b[0m     \u001b[38;5;28;01mif\u001b[39;00m \u001b[38;5;28mself\u001b[39m\u001b[38;5;241m.\u001b[39mis_running():\n\u001b[1;32m--> 582\u001b[0m         \u001b[38;5;28;01mraise\u001b[39;00m \u001b[38;5;167;01mRuntimeError\u001b[39;00m(\u001b[38;5;124m'\u001b[39m\u001b[38;5;124mThis event loop is already running\u001b[39m\u001b[38;5;124m'\u001b[39m)\n\u001b[0;32m    583\u001b[0m     \u001b[38;5;28;01mif\u001b[39;00m events\u001b[38;5;241m.\u001b[39m_get_running_loop() \u001b[38;5;129;01mis\u001b[39;00m \u001b[38;5;129;01mnot\u001b[39;00m \u001b[38;5;28;01mNone\u001b[39;00m:\n\u001b[0;32m    584\u001b[0m         \u001b[38;5;28;01mraise\u001b[39;00m \u001b[38;5;167;01mRuntimeError\u001b[39;00m(\n\u001b[0;32m    585\u001b[0m             \u001b[38;5;124m'\u001b[39m\u001b[38;5;124mCannot run the event loop while another loop is running\u001b[39m\u001b[38;5;124m'\u001b[39m)\n",
      "\u001b[1;31mRuntimeError\u001b[0m: This event loop is already running"
     ]
    }
   ],
   "source": [
    "# temi_ip_address= \"172.20.10.7\n",
    "# t = Temi('ws://172.20.10.7:8175')\n",
    "# await t.connect()\n",
    "async def connect_temi():\n",
    "    temi = Temi('ws://172.20.10.7:8175')\n",
    "    await temi.connect()\n",
    "    message = await temi.interface(url=\"https://www.baidu.com/\").speak(sentence=\"HI TEMI\").run()\n",
    "    print(message) \n",
    "\n",
    "asyncio.get_event_loop().run_until_complete(connect_temi())"
   ]
  },
  {
   "cell_type": "code",
   "execution_count": 6,
   "id": "34657716",
   "metadata": {},
   "outputs": [
    {
     "name": "stderr",
     "output_type": "stream",
     "text": [
      "\u001b[37mDEBUG:temi 2022-08-08 19:10:11,228 - Trying to connect to Temi at ws://172.20.10.7:8175...\u001b[0m\n",
      "\u001b[37mDEBUG:temi 2022-08-08 19:10:11,228 - Trying to connect to Temi at ws://172.20.10.7:8175...\u001b[0m\n",
      "\u001b[37mDEBUG:temi 2022-08-08 19:10:11,228 - Trying to connect to Temi at ws://172.20.10.7:8175...\u001b[0m\n",
      "\u001b[37mDEBUG:temi 2022-08-08 19:10:11,228 - Trying to connect to Temi at ws://172.20.10.7:8175...\u001b[0m\n",
      "\u001b[31mERROR:temi 2022-08-08 19:10:21,235 - Cannot connect to Temi at ws://172.20.10.7:8175.\u001b[0m\n",
      "\u001b[31mERROR:temi 2022-08-08 19:10:21,235 - Cannot connect to Temi at ws://172.20.10.7:8175.\u001b[0m\n",
      "\u001b[31mERROR:temi 2022-08-08 19:10:21,235 - Cannot connect to Temi at ws://172.20.10.7:8175.\u001b[0m\n",
      "\u001b[31mERROR:temi 2022-08-08 19:10:21,235 - Cannot connect to Temi at ws://172.20.10.7:8175.\u001b[0m\n"
     ]
    },
    {
     "name": "stdout",
     "output_type": "stream",
     "text": [
      "\n"
     ]
    },
    {
     "name": "stderr",
     "output_type": "stream",
     "text": [
      "\u001b[37mDEBUG:temi 2022-08-08 19:10:26,239 - Trying to connect to Temi at ws://172.20.10.7:8175...\u001b[0m\n",
      "\u001b[37mDEBUG:temi 2022-08-08 19:10:26,239 - Trying to connect to Temi at ws://172.20.10.7:8175...\u001b[0m\n",
      "\u001b[37mDEBUG:temi 2022-08-08 19:10:26,239 - Trying to connect to Temi at ws://172.20.10.7:8175...\u001b[0m\n",
      "\u001b[37mDEBUG:temi 2022-08-08 19:10:26,239 - Trying to connect to Temi at ws://172.20.10.7:8175...\u001b[0m\n",
      "\u001b[31mERROR:temi 2022-08-08 19:10:36,248 - Cannot connect to Temi at ws://172.20.10.7:8175.\u001b[0m\n",
      "\u001b[31mERROR:temi 2022-08-08 19:10:36,248 - Cannot connect to Temi at ws://172.20.10.7:8175.\u001b[0m\n",
      "\u001b[31mERROR:temi 2022-08-08 19:10:36,248 - Cannot connect to Temi at ws://172.20.10.7:8175.\u001b[0m\n",
      "\u001b[31mERROR:temi 2022-08-08 19:10:36,248 - Cannot connect to Temi at ws://172.20.10.7:8175.\u001b[0m\n"
     ]
    },
    {
     "name": "stdout",
     "output_type": "stream",
     "text": [
      "\n"
     ]
    },
    {
     "name": "stderr",
     "output_type": "stream",
     "text": [
      "\u001b[37mDEBUG:temi 2022-08-08 19:10:41,260 - Trying to connect to Temi at ws://172.20.10.7:8175...\u001b[0m\n",
      "\u001b[37mDEBUG:temi 2022-08-08 19:10:41,260 - Trying to connect to Temi at ws://172.20.10.7:8175...\u001b[0m\n",
      "\u001b[37mDEBUG:temi 2022-08-08 19:10:41,260 - Trying to connect to Temi at ws://172.20.10.7:8175...\u001b[0m\n",
      "\u001b[37mDEBUG:temi 2022-08-08 19:10:41,260 - Trying to connect to Temi at ws://172.20.10.7:8175...\u001b[0m\n",
      "\u001b[31mERROR:temi 2022-08-08 19:10:51,271 - Cannot connect to Temi at ws://172.20.10.7:8175.\u001b[0m\n",
      "\u001b[31mERROR:temi 2022-08-08 19:10:51,271 - Cannot connect to Temi at ws://172.20.10.7:8175.\u001b[0m\n",
      "\u001b[31mERROR:temi 2022-08-08 19:10:51,271 - Cannot connect to Temi at ws://172.20.10.7:8175.\u001b[0m\n",
      "\u001b[31mERROR:temi 2022-08-08 19:10:51,271 - Cannot connect to Temi at ws://172.20.10.7:8175.\u001b[0m\n",
      "\u001b[1;31mCRITICAL:temi 2022-08-08 19:10:51,276 - Could connect to Temi at ws://172.20.10.7:8175 after 3 tries.\u001b[0m\n",
      "\u001b[1;31mCRITICAL:temi 2022-08-08 19:10:51,276 - Could connect to Temi at ws://172.20.10.7:8175 after 3 tries.\u001b[0m\n",
      "\u001b[1;31mCRITICAL:temi 2022-08-08 19:10:51,276 - Could connect to Temi at ws://172.20.10.7:8175 after 3 tries.\u001b[0m\n",
      "\u001b[1;31mCRITICAL:temi 2022-08-08 19:10:51,276 - Could connect to Temi at ws://172.20.10.7:8175 after 3 tries.\u001b[0m\n"
     ]
    },
    {
     "name": "stdout",
     "output_type": "stream",
     "text": [
      "\n"
     ]
    },
    {
     "ename": "Exception",
     "evalue": "('Cannot connect to Temi at', 'ws://172.20.10.7:8175')",
     "output_type": "error",
     "traceback": [
      "\u001b[1;31m---------------------------------------------------------------------------\u001b[0m",
      "\u001b[1;31mException\u001b[0m                                 Traceback (most recent call last)",
      "Input \u001b[1;32mIn [6]\u001b[0m, in \u001b[0;36m<cell line: 2>\u001b[1;34m()\u001b[0m\n\u001b[0;32m      1\u001b[0m temi \u001b[38;5;241m=\u001b[39m Temi(\u001b[38;5;124m'\u001b[39m\u001b[38;5;124mws://\u001b[39m\u001b[38;5;132;01m{}\u001b[39;00m\u001b[38;5;124m:8175\u001b[39m\u001b[38;5;124m'\u001b[39m\u001b[38;5;241m.\u001b[39mformat(temi_ip_address))\n\u001b[1;32m----> 2\u001b[0m \u001b[38;5;28;01mawait\u001b[39;00m temi\u001b[38;5;241m.\u001b[39mconnect()\n",
      "File \u001b[1;32mC:\\Program Files\\lib\\site-packages\\temi\\api.py:52\u001b[0m, in \u001b[0;36mTemi.connect\u001b[1;34m(self, tries, interval)\u001b[0m\n\u001b[0;32m     50\u001b[0m             \u001b[38;5;28;01mawait\u001b[39;00m asyncio\u001b[38;5;241m.\u001b[39msleep(interval)\n\u001b[0;32m     51\u001b[0m \u001b[38;5;28mself\u001b[39m\u001b[38;5;241m.\u001b[39mlogger\u001b[38;5;241m.\u001b[39mcritical(\u001b[38;5;124mf\u001b[39m\u001b[38;5;124m'\u001b[39m\u001b[38;5;124mCould connect to Temi at \u001b[39m\u001b[38;5;132;01m{\u001b[39;00m\u001b[38;5;28mself\u001b[39m\u001b[38;5;241m.\u001b[39muri\u001b[38;5;132;01m}\u001b[39;00m\u001b[38;5;124m after \u001b[39m\u001b[38;5;132;01m{\u001b[39;00mtries\u001b[38;5;132;01m}\u001b[39;00m\u001b[38;5;124m tries.\u001b[39m\u001b[38;5;124m'\u001b[39m)\n\u001b[1;32m---> 52\u001b[0m \u001b[38;5;28;01mraise\u001b[39;00m \u001b[38;5;167;01mException\u001b[39;00m(\u001b[38;5;124m'\u001b[39m\u001b[38;5;124mCannot connect to Temi at\u001b[39m\u001b[38;5;124m'\u001b[39m, \u001b[38;5;28mself\u001b[39m\u001b[38;5;241m.\u001b[39muri)\n",
      "\u001b[1;31mException\u001b[0m: ('Cannot connect to Temi at', 'ws://172.20.10.7:8175')"
     ]
    }
   ],
   "source": [
    "temi = Temi('ws://{}:8175'.format(temi_ip_address))\n",
    "await temi.connect()\n",
    "# await temi.speak(sentence='Hello!').run()"
   ]
  },
  {
   "cell_type": "code",
   "execution_count": 20,
   "id": "89271501",
   "metadata": {},
   "outputs": [
    {
     "name": "stderr",
     "output_type": "stream",
     "text": [
      "\u001b[31mERROR:temi 2022-08-08 18:23:27,460 - Error when sending command to Temi.\u001b[0m\n",
      "\u001b[31mERROR:temi 2022-08-08 18:23:27,460 - Error when sending command to Temi.\u001b[0m\n",
      "\u001b[31mERROR:temi 2022-08-08 18:23:27,460 - Error when sending command to Temi.\u001b[0m\n"
     ]
    },
    {
     "ename": "TimeoutError",
     "evalue": "",
     "output_type": "error",
     "traceback": [
      "\u001b[1;31m---------------------------------------------------------------------------\u001b[0m",
      "\u001b[1;31mCancelledError\u001b[0m                            Traceback (most recent call last)",
      "File \u001b[1;32mC:\\Program Files\\lib\\site-packages\\websockets\\legacy\\client.py:654\u001b[0m, in \u001b[0;36mConnect.__await_impl__\u001b[1;34m(self)\u001b[0m\n\u001b[0;32m    653\u001b[0m \u001b[38;5;28;01mfor\u001b[39;00m redirects \u001b[38;5;129;01min\u001b[39;00m \u001b[38;5;28mrange\u001b[39m(\u001b[38;5;28mself\u001b[39m\u001b[38;5;241m.\u001b[39mMAX_REDIRECTS_ALLOWED):\n\u001b[1;32m--> 654\u001b[0m     transport, protocol \u001b[38;5;241m=\u001b[39m \u001b[38;5;28;01mawait\u001b[39;00m \u001b[38;5;28mself\u001b[39m\u001b[38;5;241m.\u001b[39m_create_connection()\n\u001b[0;32m    655\u001b[0m     protocol \u001b[38;5;241m=\u001b[39m cast(WebSocketClientProtocol, protocol)\n",
      "File \u001b[1;32mC:\\Program Files\\lib\\asyncio\\base_events.py:1049\u001b[0m, in \u001b[0;36mBaseEventLoop.create_connection\u001b[1;34m(self, protocol_factory, host, port, ssl, family, proto, flags, sock, local_addr, server_hostname, ssl_handshake_timeout, happy_eyeballs_delay, interleave)\u001b[0m\n\u001b[0;32m   1048\u001b[0m \u001b[38;5;28;01mtry\u001b[39;00m:\n\u001b[1;32m-> 1049\u001b[0m     sock \u001b[38;5;241m=\u001b[39m \u001b[38;5;28;01mawait\u001b[39;00m \u001b[38;5;28mself\u001b[39m\u001b[38;5;241m.\u001b[39m_connect_sock(\n\u001b[0;32m   1050\u001b[0m         exceptions, addrinfo, laddr_infos)\n\u001b[0;32m   1051\u001b[0m     \u001b[38;5;28;01mbreak\u001b[39;00m\n",
      "File \u001b[1;32mC:\\Program Files\\lib\\asyncio\\base_events.py:960\u001b[0m, in \u001b[0;36mBaseEventLoop._connect_sock\u001b[1;34m(self, exceptions, addr_info, local_addr_infos)\u001b[0m\n\u001b[0;32m    959\u001b[0m         \u001b[38;5;28;01mraise\u001b[39;00m my_exceptions\u001b[38;5;241m.\u001b[39mpop()\n\u001b[1;32m--> 960\u001b[0m \u001b[38;5;28;01mawait\u001b[39;00m \u001b[38;5;28mself\u001b[39m\u001b[38;5;241m.\u001b[39msock_connect(sock, address)\n\u001b[0;32m    961\u001b[0m \u001b[38;5;28;01mreturn\u001b[39;00m sock\n",
      "File \u001b[1;32mC:\\Program Files\\lib\\asyncio\\selector_events.py:500\u001b[0m, in \u001b[0;36mBaseSelectorEventLoop.sock_connect\u001b[1;34m(self, sock, address)\u001b[0m\n\u001b[0;32m    499\u001b[0m \u001b[38;5;28mself\u001b[39m\u001b[38;5;241m.\u001b[39m_sock_connect(fut, sock, address)\n\u001b[1;32m--> 500\u001b[0m \u001b[38;5;28;01mreturn\u001b[39;00m \u001b[38;5;28;01mawait\u001b[39;00m fut\n",
      "\u001b[1;31mCancelledError\u001b[0m: ",
      "\nDuring handling of the above exception, another exception occurred:\n",
      "\u001b[1;31mCancelledError\u001b[0m                            Traceback (most recent call last)",
      "File \u001b[1;32mC:\\Program Files\\lib\\asyncio\\tasks.py:456\u001b[0m, in \u001b[0;36mwait_for\u001b[1;34m(fut, timeout)\u001b[0m\n\u001b[0;32m    455\u001b[0m \u001b[38;5;28;01mtry\u001b[39;00m:\n\u001b[1;32m--> 456\u001b[0m     \u001b[38;5;28;01mreturn\u001b[39;00m \u001b[43mfut\u001b[49m\u001b[38;5;241;43m.\u001b[39;49m\u001b[43mresult\u001b[49m\u001b[43m(\u001b[49m\u001b[43m)\u001b[49m\n\u001b[0;32m    457\u001b[0m \u001b[38;5;28;01mexcept\u001b[39;00m exceptions\u001b[38;5;241m.\u001b[39mCancelledError \u001b[38;5;28;01mas\u001b[39;00m exc:\n",
      "\u001b[1;31mCancelledError\u001b[0m: ",
      "\nThe above exception was the direct cause of the following exception:\n",
      "\u001b[1;31mTimeoutError\u001b[0m                              Traceback (most recent call last)",
      "Input \u001b[1;32mIn [20]\u001b[0m, in \u001b[0;36m<cell line: 6>\u001b[1;34m()\u001b[0m\n\u001b[0;32m      3\u001b[0m     \u001b[38;5;28;01mawait\u001b[39;00m temi\u001b[38;5;241m.\u001b[39mconnect()\n\u001b[0;32m      4\u001b[0m     \u001b[38;5;28;01mawait\u001b[39;00m temi\u001b[38;5;241m.\u001b[39mspeak(sentence\u001b[38;5;241m=\u001b[39m\u001b[38;5;124m'\u001b[39m\u001b[38;5;124mHello!\u001b[39m\u001b[38;5;124m'\u001b[39m)\u001b[38;5;241m.\u001b[39mrun()\n\u001b[1;32m----> 6\u001b[0m \u001b[38;5;28;01mawait\u001b[39;00m temi\u001b[38;5;241m.\u001b[39mspeak(sentence\u001b[38;5;241m=\u001b[39m\u001b[38;5;124m\"\u001b[39m\u001b[38;5;124mSentence to say\u001b[39m\u001b[38;5;124m\"\u001b[39m, timeout\u001b[38;5;241m=\u001b[39m\u001b[38;5;28;01mNone\u001b[39;00m)\u001b[38;5;241m.\u001b[39mrun()\n",
      "File \u001b[1;32mC:\\Program Files\\lib\\site-packages\\temi\\api.py:120\u001b[0m, in \u001b[0;36mTemi.run\u001b[1;34m(self)\u001b[0m\n\u001b[0;32m    119\u001b[0m \u001b[38;5;28;01masync\u001b[39;00m \u001b[38;5;28;01mdef\u001b[39;00m \u001b[38;5;21mrun\u001b[39m(\u001b[38;5;28mself\u001b[39m):\n\u001b[1;32m--> 120\u001b[0m     results \u001b[38;5;241m=\u001b[39m \u001b[38;5;28;01mawait\u001b[39;00m asyncio\u001b[38;5;241m.\u001b[39mgather( \u001b[38;5;241m*\u001b[39m\u001b[38;5;28mself\u001b[39m\u001b[38;5;241m.\u001b[39mtasks )\n\u001b[0;32m    121\u001b[0m     \u001b[38;5;28mself\u001b[39m\u001b[38;5;241m.\u001b[39mtasks \u001b[38;5;241m=\u001b[39m []\n\u001b[0;32m    122\u001b[0m     \u001b[38;5;28;01mif\u001b[39;00m \u001b[38;5;28mlen\u001b[39m(results) \u001b[38;5;241m==\u001b[39m \u001b[38;5;241m1\u001b[39m:\n",
      "File \u001b[1;32mC:\\Program Files\\lib\\site-packages\\temi\\api.py:115\u001b[0m, in \u001b[0;36mTemi.command\u001b[1;34m(self, command, timeout, **kwargs)\u001b[0m\n\u001b[0;32m    114\u001b[0m \u001b[38;5;28;01masync\u001b[39;00m \u001b[38;5;28;01mdef\u001b[39;00m \u001b[38;5;21mcommand\u001b[39m(\u001b[38;5;28mself\u001b[39m, command, timeout\u001b[38;5;241m=\u001b[39m\u001b[38;5;28;01mNone\u001b[39;00m, \u001b[38;5;241m*\u001b[39m\u001b[38;5;241m*\u001b[39mkwargs):\n\u001b[1;32m--> 115\u001b[0m     \u001b[38;5;28;01mreturn\u001b[39;00m \u001b[38;5;28;01mawait\u001b[39;00m asyncio\u001b[38;5;241m.\u001b[39mwait_for(\n\u001b[0;32m    116\u001b[0m         \u001b[38;5;28mself\u001b[39m\u001b[38;5;241m.\u001b[39m__send_command(command, \u001b[38;5;241m*\u001b[39m\u001b[38;5;241m*\u001b[39mkwargs), timeout\u001b[38;5;241m=\u001b[39mtimeout\n\u001b[0;32m    117\u001b[0m     )\n",
      "File \u001b[1;32mC:\\Program Files\\lib\\asyncio\\tasks.py:408\u001b[0m, in \u001b[0;36mwait_for\u001b[1;34m(fut, timeout)\u001b[0m\n\u001b[0;32m    405\u001b[0m loop \u001b[38;5;241m=\u001b[39m events\u001b[38;5;241m.\u001b[39mget_running_loop()\n\u001b[0;32m    407\u001b[0m \u001b[38;5;28;01mif\u001b[39;00m timeout \u001b[38;5;129;01mis\u001b[39;00m \u001b[38;5;28;01mNone\u001b[39;00m:\n\u001b[1;32m--> 408\u001b[0m     \u001b[38;5;28;01mreturn\u001b[39;00m \u001b[38;5;28;01mawait\u001b[39;00m fut\n\u001b[0;32m    410\u001b[0m \u001b[38;5;28;01mif\u001b[39;00m timeout \u001b[38;5;241m<\u001b[39m\u001b[38;5;241m=\u001b[39m \u001b[38;5;241m0\u001b[39m:\n\u001b[0;32m    411\u001b[0m     fut \u001b[38;5;241m=\u001b[39m ensure_future(fut, loop\u001b[38;5;241m=\u001b[39mloop)\n",
      "File \u001b[1;32mC:\\Program Files\\lib\\site-packages\\temi\\api.py:112\u001b[0m, in \u001b[0;36mTemi.__send_command\u001b[1;34m(self, command, **kwargs)\u001b[0m\n\u001b[0;32m    110\u001b[0m \u001b[38;5;28;01mexcept\u001b[39;00m \u001b[38;5;167;01mException\u001b[39;00m \u001b[38;5;28;01mas\u001b[39;00m e:\n\u001b[0;32m    111\u001b[0m     \u001b[38;5;28mself\u001b[39m\u001b[38;5;241m.\u001b[39mlogger\u001b[38;5;241m.\u001b[39merror(\u001b[38;5;124mf\u001b[39m\u001b[38;5;124m'\u001b[39m\u001b[38;5;124mError when sending command to Temi.\u001b[39m\u001b[38;5;124m'\u001b[39m)\n\u001b[1;32m--> 112\u001b[0m     \u001b[38;5;28;01mraise\u001b[39;00m e\n",
      "File \u001b[1;32mC:\\Program Files\\lib\\site-packages\\temi\\api.py:95\u001b[0m, in \u001b[0;36mTemi.__send_command\u001b[1;34m(self, command, **kwargs)\u001b[0m\n\u001b[0;32m     92\u001b[0m command_string \u001b[38;5;241m=\u001b[39m json\u001b[38;5;241m.\u001b[39mdumps(kwargs, ensure_ascii\u001b[38;5;241m=\u001b[39m\u001b[38;5;28;01mFalse\u001b[39;00m)\n\u001b[0;32m     94\u001b[0m \u001b[38;5;28;01mtry\u001b[39;00m:\n\u001b[1;32m---> 95\u001b[0m     \u001b[38;5;28;01masync\u001b[39;00m \u001b[38;5;28;01mwith\u001b[39;00m websockets\u001b[38;5;241m.\u001b[39mconnect(\u001b[38;5;28mself\u001b[39m\u001b[38;5;241m.\u001b[39muri) \u001b[38;5;28;01mas\u001b[39;00m websocket:\n\u001b[0;32m     96\u001b[0m         \u001b[38;5;66;03m# Send it.\u001b[39;00m\n\u001b[0;32m     97\u001b[0m         \u001b[38;5;28;01mawait\u001b[39;00m websocket\u001b[38;5;241m.\u001b[39msend(command_string)\n\u001b[0;32m     98\u001b[0m         \u001b[38;5;28mself\u001b[39m\u001b[38;5;241m.\u001b[39mlogger\u001b[38;5;241m.\u001b[39mdebug(\u001b[38;5;124mf\u001b[39m\u001b[38;5;124m'\u001b[39m\u001b[38;5;124mSent command to Temi: \u001b[39m\u001b[38;5;132;01m{\u001b[39;00mcommand_string\u001b[38;5;132;01m}\u001b[39;00m\u001b[38;5;124m'\u001b[39m)\n",
      "File \u001b[1;32mC:\\Program Files\\lib\\site-packages\\websockets\\legacy\\client.py:633\u001b[0m, in \u001b[0;36mConnect.__aenter__\u001b[1;34m(self)\u001b[0m\n\u001b[0;32m    632\u001b[0m \u001b[38;5;28;01masync\u001b[39;00m \u001b[38;5;28;01mdef\u001b[39;00m \u001b[38;5;21m__aenter__\u001b[39m(\u001b[38;5;28mself\u001b[39m) \u001b[38;5;241m-\u001b[39m\u001b[38;5;241m>\u001b[39m WebSocketClientProtocol:\n\u001b[1;32m--> 633\u001b[0m     \u001b[38;5;28;01mreturn\u001b[39;00m \u001b[38;5;28;01mawait\u001b[39;00m \u001b[38;5;28mself\u001b[39m\n",
      "File \u001b[1;32mC:\\Program Files\\lib\\site-packages\\websockets\\legacy\\client.py:650\u001b[0m, in \u001b[0;36mConnect.__await_impl_timeout__\u001b[1;34m(self)\u001b[0m\n\u001b[0;32m    649\u001b[0m \u001b[38;5;28;01masync\u001b[39;00m \u001b[38;5;28;01mdef\u001b[39;00m \u001b[38;5;21m__await_impl_timeout__\u001b[39m(\u001b[38;5;28mself\u001b[39m) \u001b[38;5;241m-\u001b[39m\u001b[38;5;241m>\u001b[39m WebSocketClientProtocol:\n\u001b[1;32m--> 650\u001b[0m     \u001b[38;5;28;01mreturn\u001b[39;00m \u001b[38;5;28;01mawait\u001b[39;00m asyncio\u001b[38;5;241m.\u001b[39mwait_for(\u001b[38;5;28mself\u001b[39m\u001b[38;5;241m.\u001b[39m__await_impl__(), \u001b[38;5;28mself\u001b[39m\u001b[38;5;241m.\u001b[39mopen_timeout)\n",
      "File \u001b[1;32mC:\\Program Files\\lib\\asyncio\\tasks.py:458\u001b[0m, in \u001b[0;36mwait_for\u001b[1;34m(fut, timeout)\u001b[0m\n\u001b[0;32m    456\u001b[0m             \u001b[38;5;28;01mreturn\u001b[39;00m fut\u001b[38;5;241m.\u001b[39mresult()\n\u001b[0;32m    457\u001b[0m         \u001b[38;5;28;01mexcept\u001b[39;00m exceptions\u001b[38;5;241m.\u001b[39mCancelledError \u001b[38;5;28;01mas\u001b[39;00m exc:\n\u001b[1;32m--> 458\u001b[0m             \u001b[38;5;28;01mraise\u001b[39;00m exceptions\u001b[38;5;241m.\u001b[39mTimeoutError() \u001b[38;5;28;01mfrom\u001b[39;00m \u001b[38;5;21;01mexc\u001b[39;00m\n\u001b[0;32m    459\u001b[0m \u001b[38;5;28;01mfinally\u001b[39;00m:\n\u001b[0;32m    460\u001b[0m     timeout_handle\u001b[38;5;241m.\u001b[39mcancel()\n",
      "\u001b[1;31mTimeoutError\u001b[0m: "
     ]
    }
   ],
   "source": [
    "async def connect_temi():\n",
    "    temi = Temi('ws://{}:8175'.format(temi_ip_address))\n",
    "    await temi.connect()\n",
    "    await temi.speak(sentence='Hello!').run()\n",
    "    \n",
    "await temi.speak(sentence=\"Sentence to say\", timeout=None).run()\n",
    "\n",
    "# asyncio.get_event_loop().run_until_complete(connect_temi())"
   ]
  }
 ],
 "metadata": {
  "kernelspec": {
   "display_name": "Python 3 (ipykernel)",
   "language": "python",
   "name": "python3"
  },
  "language_info": {
   "codemirror_mode": {
    "name": "ipython",
    "version": 3
   },
   "file_extension": ".py",
   "mimetype": "text/x-python",
   "name": "python",
   "nbconvert_exporter": "python",
   "pygments_lexer": "ipython3",
   "version": "3.10.5"
  }
 },
 "nbformat": 4,
 "nbformat_minor": 5
}
