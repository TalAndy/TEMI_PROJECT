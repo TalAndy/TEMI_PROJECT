{
 "cells": [
  {
   "cell_type": "code",
   "execution_count": 1,
   "id": "91f79e5a",
   "metadata": {
    "pycharm": {
     "name": "#%%\n"
    }
   },
   "outputs": [],
   "source": [
    "from google_auth_oauthlib.flow import InstalledAppFlow\n",
    "from googleapiclient.discovery import build"
   ]
  },
  {
   "cell_type": "code",
   "execution_count": 2,
   "id": "5cb9119e",
   "metadata": {
    "pycharm": {
     "name": "#%%\n"
    }
   },
   "outputs": [
    {
     "name": "stdout",
     "output_type": "stream",
     "text": [
      "Please visit this URL to authorize this application: https://accounts.google.com/o/oauth2/auth?response_type=code&client_id=483046329936-35qm3qj8iurmab8bkjkbth4lcrif0lnh.apps.googleusercontent.com&redirect_uri=http%3A%2F%2Flocalhost%3A8080%2F&scope=https%3A%2F%2Fwww.googleapis.com%2Fauth%2Fcalendar&state=G4qg6B89EwlKqOURH0XxdQ6E3VSins&access_type=offline\n"
     ]
    }
   ],
   "source": [
    "scopes = ['https://www.googleapis.com/auth/calendar']\n",
    "flow = InstalledAppFlow.from_client_secrets_file(\"./credentials/client2.json\", scopes=scopes)\n",
    "credentials = flow.run_local_server()\n"
   ]
  },
  {
   "cell_type": "code",
   "execution_count": 3,
   "id": "c37a768e",
   "metadata": {
    "pycharm": {
     "name": "#%%\n"
    }
   },
   "outputs": [],
   "source": [
    "calendar_service = build(\"calendar\", \"v3\", credentials=credentials)"
   ]
  },
  {
   "cell_type": "code",
   "execution_count": 18,
   "id": "2abcf3e8",
   "metadata": {
    "pycharm": {
     "name": "#%%\n"
    }
   },
   "outputs": [
    {
     "data": {
      "text/html": [
       "<div>\n",
       "<style scoped>\n",
       "    .dataframe tbody tr th:only-of-type {\n",
       "        vertical-align: middle;\n",
       "    }\n",
       "\n",
       "    .dataframe tbody tr th {\n",
       "        vertical-align: top;\n",
       "    }\n",
       "\n",
       "    .dataframe thead th {\n",
       "        text-align: right;\n",
       "    }\n",
       "</style>\n",
       "<table border=\"1\" class=\"dataframe\">\n",
       "  <thead>\n",
       "    <tr style=\"text-align: right;\">\n",
       "      <th></th>\n",
       "      <th>name</th>\n",
       "      <th>recipints_id</th>\n",
       "    </tr>\n",
       "    <tr>\n",
       "      <th>id</th>\n",
       "      <th></th>\n",
       "      <th></th>\n",
       "    </tr>\n",
       "  </thead>\n",
       "  <tbody>\n",
       "    <tr>\n",
       "      <th>1</th>\n",
       "      <td>p1</td>\n",
       "      <td>11</td>\n",
       "    </tr>\n",
       "    <tr>\n",
       "      <th>2</th>\n",
       "      <td>p2</td>\n",
       "      <td>22</td>\n",
       "    </tr>\n",
       "    <tr>\n",
       "      <th>3</th>\n",
       "      <td>p3</td>\n",
       "      <td>33</td>\n",
       "    </tr>\n",
       "  </tbody>\n",
       "</table>\n",
       "</div>"
      ],
      "text/plain": [
       "   name  recipints_id\n",
       "id                   \n",
       "1    p1            11\n",
       "2    p2            22\n",
       "3    p3            33"
      ]
     },
     "execution_count": 18,
     "metadata": {},
     "output_type": "execute_result"
    }
   ],
   "source": [
    "import pandas as pd \n",
    "patients_cols = ['id','name','recipints_id']\n",
    "patients_data = pd.DataFrame(columns=patients_cols,data=[[1,'p1',11],[2,'p2',22],[3,'p3',33]])\n",
    "patients_df = pd.DataFrame(data=patients_data,columns=patients_cols)\n",
    "patients_df.set_index(keys=['id'],inplace=True)\n",
    "patients_df"
   ]
  },
  {
   "cell_type": "code",
   "execution_count": null,
   "id": "a342a51d",
   "metadata": {
    "pycharm": {
     "name": "#%%\n"
    }
   },
   "outputs": [],
   "source": [
    "recpitinets_cols = ['id','name','hours','phone']"
   ]
  },
  {
   "cell_type": "code",
   "execution_count": 19,
   "id": "2586d8dc",
   "metadata": {
    "pycharm": {
     "name": "#%%\n"
    }
   },
   "outputs": [],
   "source": [
    "from uuid import uuid4\n",
    "\n",
    "event = {\"summary\": \"test meeting\",\n",
    "                 \"start\": {\"dateTime\": \"2022-07-31T14:00:00\"},\n",
    "                 \"end\": {\"dateTime\": \"2022-07-31T16:15:00\"},\n",
    "                 \"attendees\": \"nivbdbd@gmail.com\",\n",
    "                 \"conferenceData\": {\"createRequest\": {\"requestId\": f\"{uuid4().hex}\",\n",
    "                                                      \"conferenceSolutionKey\": {\"type\": \"hangoutsMeet\"}}},\n",
    "                 \"reminders\": {\"useDefault\": True}\n",
    "                 }\n",
    "\n",
    "\n",
    "\n",
    "event = calendar_service.events().insert(calendarId=\"primary\", sendNotifications=True, body=event, conferenceDataVersion=1).execute()"
   ]
  },
  {
   "cell_type": "code",
   "execution_count": null,
   "id": "8c466cc6",
   "metadata": {
    "pycharm": {
     "name": "#%%\n"
    }
   },
   "outputs": [],
   "source": [
    "def create_event()"
   ]
  },
  {
   "cell_type": "code",
   "execution_count": 54,
   "id": "df3b96f1",
   "metadata": {
    "pycharm": {
     "name": "#%%\n"
    }
   },
   "outputs": [],
   "source": [
    "from uuid import uuid4\n",
    "\n",
    "body = {\n",
    "      \"calendarId\": \"primary\",\n",
    "      \"conferenceDataVersion\": 1,\n",
    "      'attendees': [\n",
    "    {'email': 'nivbdbd@gmail.com'},\n",
    "    {'email': 'talendelman@gmail.com'},\n",
    "  ],\n",
    "\n",
    "      \"end\": {\n",
    "        'dateTime': '2022-06-20T21:00:00-07:00',\n",
    "          'timeZone': 'Israel'\n",
    "      },\n",
    "      \"start\": {\n",
    "        'dateTime': '2022-06-20T20:30:00-07:00',\n",
    "          'timeZone': 'Israel'\n",
    "      },\n",
    "      \"conferenceData\": {\n",
    "        \"createRequest\": {\n",
    "          \"conferenceSolutionKey\": {\n",
    "            \"type\": \"hangoutsMeet\"\n",
    "          },\n",
    "          \"requestId\": f\"{uuid4().hex}\"\n",
    "        }\n",
    "      },\n",
    "      \"summary\": \"Meet TAL AND NIV meet\"\n",
    "      }\n",
    "\n",
    "event = calendar_service.events().insert(calendarId=\"primary\", sendNotifications=True, body=body, conferenceDataVersion=1).execute()"
   ]
  },
  {
   "cell_type": "code",
   "execution_count": 44,
   "id": "536a0735",
   "metadata": {
    "pycharm": {
     "name": "#%%\n"
    }
   },
   "outputs": [
    {
     "data": {
      "text/plain": [
       "'https://www.google.com/calendar/event?eid=ZDN0bWtycDFmanIwbWttbmhzMTduM2s4czggbXRhdGVtaXByb2plY3RAbQ'"
      ]
     },
     "execution_count": 44,
     "metadata": {},
     "output_type": "execute_result"
    }
   ],
   "source": [
    "requst_id = event['conferenceData']['createRequest']['requestId']\n",
    "event['htmlLink']"
   ]
  },
  {
   "cell_type": "code",
   "execution_count": null,
   "id": "a19ad35a",
   "metadata": {
    "pycharm": {
     "name": "#%%\n"
    }
   },
   "outputs": [],
   "source": [
    "patient:\n",
    "    "
   ]
  }
 ],
 "metadata": {
  "kernelspec": {
   "display_name": "Python 3 (ipykernel)",
   "language": "python",
   "name": "python3"
  },
  "language_info": {
   "codemirror_mode": {
    "name": "ipython",
    "version": 3
   },
   "file_extension": ".py",
   "mimetype": "text/x-python",
   "name": "python",
   "nbconvert_exporter": "python",
   "pygments_lexer": "ipython3",
   "version": "3.10.5"
  }
 },
 "nbformat": 4,
 "nbformat_minor": 5
}