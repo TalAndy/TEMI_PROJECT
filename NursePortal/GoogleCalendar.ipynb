{
 "cells": [
  {
   "cell_type": "code",
   "execution_count": 1,
   "outputs": [],
   "source": [
    "from apiclient.discovery import build\n",
    "from google_auth_oauthlib.flow import InstalledAppFlow"
   ],
   "metadata": {
    "collapsed": false,
    "pycharm": {
     "name": "#%%\n"
    }
   }
  },
  {
   "cell_type": "code",
   "execution_count": 5,
   "outputs": [
    {
     "name": "stdout",
     "output_type": "stream",
     "text": [
      "Please visit this URL to authorize this application: https://accounts.google.com/o/oauth2/auth?response_type=code&client_id=483046329936-nfnne4bgq76hughkr3ftg17flilpgui6.apps.googleusercontent.com&redirect_uri=urn%3Aietf%3Awg%3Aoauth%3A2.0%3Aoob&scope=https%3A%2F%2Fwww.googleapis.com%2Fauth%2Fcalendar&state=Kw4P9cwwsyM7yO0TTHPJwTBeHmV5M9&prompt=consent&access_type=offline\n"
     ]
    },
    {
     "ename": "ValueError",
     "evalue": "Please supply either code or authorization_response parameters.",
     "output_type": "error",
     "traceback": [
      "\u001B[1;31m---------------------------------------------------------------------------\u001B[0m",
      "\u001B[1;31mValueError\u001B[0m                                Traceback (most recent call last)",
      "Input \u001B[1;32mIn [5]\u001B[0m, in \u001B[0;36m<cell line: 3>\u001B[1;34m()\u001B[0m\n\u001B[0;32m      1\u001B[0m scopes \u001B[38;5;241m=\u001B[39m [\u001B[38;5;124m'\u001B[39m\u001B[38;5;124mhttps://www.googleapis.com/auth/calendar\u001B[39m\u001B[38;5;124m'\u001B[39m]\n\u001B[0;32m      2\u001B[0m flow \u001B[38;5;241m=\u001B[39m InstalledAppFlow\u001B[38;5;241m.\u001B[39mfrom_client_secrets_file(\u001B[38;5;124m\"\u001B[39m\u001B[38;5;124m./credentials/credentials.json\u001B[39m\u001B[38;5;124m\"\u001B[39m, scopes\u001B[38;5;241m=\u001B[39mscopes)\n\u001B[1;32m----> 3\u001B[0m credentials \u001B[38;5;241m=\u001B[39m \u001B[43mflow\u001B[49m\u001B[38;5;241;43m.\u001B[39;49m\u001B[43mrun_console\u001B[49m\u001B[43m(\u001B[49m\u001B[43m)\u001B[49m\n",
      "File \u001B[1;32m~\\PycharmProjects\\pythonProject\\venv\\lib\\site-packages\\google_auth_oauthlib\\flow.py:411\u001B[0m, in \u001B[0;36mInstalledAppFlow.run_console\u001B[1;34m(self, authorization_prompt_message, authorization_code_message, **kwargs)\u001B[0m\n\u001B[0;32m    407\u001B[0m \u001B[38;5;28mprint\u001B[39m(authorization_prompt_message\u001B[38;5;241m.\u001B[39mformat(url\u001B[38;5;241m=\u001B[39mauth_url))\n\u001B[0;32m    409\u001B[0m code \u001B[38;5;241m=\u001B[39m \u001B[38;5;28minput\u001B[39m(authorization_code_message)\n\u001B[1;32m--> 411\u001B[0m \u001B[38;5;28;43mself\u001B[39;49m\u001B[38;5;241;43m.\u001B[39;49m\u001B[43mfetch_token\u001B[49m\u001B[43m(\u001B[49m\u001B[43mcode\u001B[49m\u001B[38;5;241;43m=\u001B[39;49m\u001B[43mcode\u001B[49m\u001B[43m)\u001B[49m\n\u001B[0;32m    413\u001B[0m \u001B[38;5;28;01mreturn\u001B[39;00m \u001B[38;5;28mself\u001B[39m\u001B[38;5;241m.\u001B[39mcredentials\n",
      "File \u001B[1;32m~\\PycharmProjects\\pythonProject\\venv\\lib\\site-packages\\google_auth_oauthlib\\flow.py:286\u001B[0m, in \u001B[0;36mFlow.fetch_token\u001B[1;34m(self, **kwargs)\u001B[0m\n\u001B[0;32m    284\u001B[0m kwargs\u001B[38;5;241m.\u001B[39msetdefault(\u001B[38;5;124m\"\u001B[39m\u001B[38;5;124mclient_secret\u001B[39m\u001B[38;5;124m\"\u001B[39m, \u001B[38;5;28mself\u001B[39m\u001B[38;5;241m.\u001B[39mclient_config[\u001B[38;5;124m\"\u001B[39m\u001B[38;5;124mclient_secret\u001B[39m\u001B[38;5;124m\"\u001B[39m])\n\u001B[0;32m    285\u001B[0m kwargs\u001B[38;5;241m.\u001B[39msetdefault(\u001B[38;5;124m\"\u001B[39m\u001B[38;5;124mcode_verifier\u001B[39m\u001B[38;5;124m\"\u001B[39m, \u001B[38;5;28mself\u001B[39m\u001B[38;5;241m.\u001B[39mcode_verifier)\n\u001B[1;32m--> 286\u001B[0m \u001B[38;5;28;01mreturn\u001B[39;00m \u001B[38;5;28mself\u001B[39m\u001B[38;5;241m.\u001B[39moauth2session\u001B[38;5;241m.\u001B[39mfetch_token(\u001B[38;5;28mself\u001B[39m\u001B[38;5;241m.\u001B[39mclient_config[\u001B[38;5;124m\"\u001B[39m\u001B[38;5;124mtoken_uri\u001B[39m\u001B[38;5;124m\"\u001B[39m], \u001B[38;5;241m*\u001B[39m\u001B[38;5;241m*\u001B[39mkwargs)\n",
      "File \u001B[1;32m~\\PycharmProjects\\pythonProject\\venv\\lib\\site-packages\\requests_oauthlib\\oauth2_session.py:251\u001B[0m, in \u001B[0;36mOAuth2Session.fetch_token\u001B[1;34m(self, token_url, code, authorization_response, body, auth, username, password, method, force_querystring, timeout, headers, verify, proxies, include_client_id, client_secret, cert, **kwargs)\u001B[0m\n\u001B[0;32m    249\u001B[0m     code \u001B[38;5;241m=\u001B[39m \u001B[38;5;28mself\u001B[39m\u001B[38;5;241m.\u001B[39m_client\u001B[38;5;241m.\u001B[39mcode\n\u001B[0;32m    250\u001B[0m     \u001B[38;5;28;01mif\u001B[39;00m \u001B[38;5;129;01mnot\u001B[39;00m code:\n\u001B[1;32m--> 251\u001B[0m         \u001B[38;5;28;01mraise\u001B[39;00m \u001B[38;5;167;01mValueError\u001B[39;00m(\n\u001B[0;32m    252\u001B[0m             \u001B[38;5;124m\"\u001B[39m\u001B[38;5;124mPlease supply either code or \u001B[39m\u001B[38;5;124m\"\u001B[39m \u001B[38;5;124m\"\u001B[39m\u001B[38;5;124mauthorization_response parameters.\u001B[39m\u001B[38;5;124m\"\u001B[39m\n\u001B[0;32m    253\u001B[0m         )\n\u001B[0;32m    255\u001B[0m \u001B[38;5;66;03m# Earlier versions of this library build an HTTPBasicAuth header out of\u001B[39;00m\n\u001B[0;32m    256\u001B[0m \u001B[38;5;66;03m# `username` and `password`. The RFC states, however these attributes\u001B[39;00m\n\u001B[0;32m    257\u001B[0m \u001B[38;5;66;03m# must be in the request body and not the header.\u001B[39;00m\n\u001B[1;32m   (...)\u001B[0m\n\u001B[0;32m    264\u001B[0m \u001B[38;5;66;03m# 4.3.2 - Resource Owner Password Credentials Grant\u001B[39;00m\n\u001B[0;32m    265\u001B[0m \u001B[38;5;66;03m#         https://tools.ietf.org/html/rfc6749#section-4.3.2\u001B[39;00m\n\u001B[0;32m    267\u001B[0m \u001B[38;5;28;01mif\u001B[39;00m \u001B[38;5;28misinstance\u001B[39m(\u001B[38;5;28mself\u001B[39m\u001B[38;5;241m.\u001B[39m_client, LegacyApplicationClient):\n",
      "\u001B[1;31mValueError\u001B[0m: Please supply either code or authorization_response parameters."
     ]
    }
   ],
   "source": [
    "scopes = ['https://www.googleapis.com/auth/calendar']\n",
    "flow = InstalledAppFlow.from_client_secrets_file(\"./credentials/credentials.json\", scopes=scopes)\n",
    "credentials = flow.run_console()\n"
   ],
   "metadata": {
    "collapsed": false,
    "pycharm": {
     "name": "#%%\n"
    }
   }
  },
  {
   "cell_type": "code",
   "execution_count": 5,
   "outputs": [
    {
     "ename": "SyntaxError",
     "evalue": "'return' outside function (817860759.py, line 8)",
     "output_type": "error",
     "traceback": [
      "\u001B[1;36m  Input \u001B[1;32mIn [5]\u001B[1;36m\u001B[0m\n\u001B[1;33m    return\u001B[0m\n\u001B[1;37m    ^\u001B[0m\n\u001B[1;31mSyntaxError\u001B[0m\u001B[1;31m:\u001B[0m 'return' outside function\n"
     ]
    }
   ],
   "source": [
    "# If there are no (valid) credentials available, let the user log in.\n",
    "if creds and creds.refresh_token:\n",
    "    try:\n",
    "        creds.refresh(Request())\n",
    "    except RefreshError:\n",
    "        logger.error(\"Credentials could not be refreshed, possibly the authorization was revoked by the user.\")\n",
    "        os.unlink('token.pickle')\n",
    "        return\n",
    "else:\n",
    "    flow = InstalledAppFlow.from_client_secrets_file(\n",
    "        'credentials.json', SCOPES)\n",
    "    creds = flow.run_local_server(port=0)\n",
    "# Save the credentials for the next run\n",
    "with open('token.pickle', 'wb') as token:\n",
    "    pickle.dump(creds, token)"
   ],
   "metadata": {
    "collapsed": false,
    "pycharm": {
     "name": "#%%\n"
    }
   }
  },
  {
   "cell_type": "code",
   "execution_count": 7,
   "outputs": [
    {
     "data": {
      "text/plain": "   1\n0  1",
      "text/html": "<div>\n<style scoped>\n    .dataframe tbody tr th:only-of-type {\n        vertical-align: middle;\n    }\n\n    .dataframe tbody tr th {\n        vertical-align: top;\n    }\n\n    .dataframe thead th {\n        text-align: right;\n    }\n</style>\n<table border=\"1\" class=\"dataframe\">\n  <thead>\n    <tr style=\"text-align: right;\">\n      <th></th>\n      <th>1</th>\n    </tr>\n  </thead>\n  <tbody>\n    <tr>\n      <th>0</th>\n      <td>1</td>\n    </tr>\n  </tbody>\n</table>\n</div>"
     },
     "execution_count": 7,
     "metadata": {},
     "output_type": "execute_result"
    }
   ],
   "source": [
    "import pandas as pd\n",
    "df = pd.DataFrame(data=[1],columns=[1])\n",
    "df.to_sql(if_exists=)"
   ],
   "metadata": {
    "collapsed": false,
    "pycharm": {
     "name": "#%%\n"
    }
   }
  }
 ],
 "metadata": {
  "kernelspec": {
   "display_name": "Python 3",
   "language": "python",
   "name": "python3"
  },
  "language_info": {
   "codemirror_mode": {
    "name": "ipython",
    "version": 2
   },
   "file_extension": ".py",
   "mimetype": "text/x-python",
   "name": "python",
   "nbconvert_exporter": "python",
   "pygments_lexer": "ipython2",
   "version": "2.7.6"
  }
 },
 "nbformat": 4,
 "nbformat_minor": 0
}